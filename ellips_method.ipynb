{
 "cells": [
  {
   "cell_type": "code",
   "execution_count": 2,
   "metadata": {},
   "outputs": [],
   "source": [
    "import numpy as np\n",
    "import matplotlib.pyplot as plt"
   ]
  },
  {
   "cell_type": "code",
   "execution_count": null,
   "metadata": {},
   "outputs": [],
   "source": [
    "def getEllipsRegret(T, D, theta):\n",
    "    A = np.zeros((D, D), dtype=double)\n",
    "    for i in range(D):\n",
    "        A[i, i] = D\n",
    "    for i in range(T):\n",
    "        x = np.random.rand(D)\n",
    "        value = (x * theta).sum()\n",
    "        \n",
    "        b = A.dot(x) / np.sqrt((x.dot(A.dot(x))))\n",
    "        A = D**2 / (D**2 - 1) * (A - 2 / (D + 1) * b.dot(b))\n",
    "        "
   ]
  },
  {
   "cell_type": "code",
   "execution_count": 5,
   "metadata": {},
   "outputs": [],
   "source": [
    "T, D = 1000, 10\n",
    "theta = np.random.rand(D)\n",
    "regret = np.arange(T)\n",
    "\n",
    "for i in range(1, T):\n",
    "    regret[i] = getEllipsRegret(i, D)\n",
    "    \n",
    "plt.plot(regret)"
   ]
  },
  {
   "cell_type": "code",
   "execution_count": null,
   "metadata": {},
   "outputs": [],
   "source": []
  }
 ],
 "metadata": {
  "kernelspec": {
   "display_name": "Python 3",
   "language": "python",
   "name": "python3"
  },
  "language_info": {
   "codemirror_mode": {
    "name": "ipython",
    "version": 3
   },
   "file_extension": ".py",
   "mimetype": "text/x-python",
   "name": "python",
   "nbconvert_exporter": "python",
   "pygments_lexer": "ipython3",
   "version": "3.7.4"
  }
 },
 "nbformat": 4,
 "nbformat_minor": 2
}
