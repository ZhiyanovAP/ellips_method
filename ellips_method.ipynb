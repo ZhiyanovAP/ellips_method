{
 "cells": [
  {
   "cell_type": "code",
   "execution_count": 3,
   "metadata": {},
   "outputs": [],
   "source": [
    "import numpy as np\n",
    "import matplotlib.pyplot as plt"
   ]
  },
  {
   "cell_type": "code",
   "execution_count": 54,
   "metadata": {},
   "outputs": [],
   "source": [
    "def getEllipsRegret(T, D, theta):\n",
    "    A = np.zeros((D, D), dtype=np.double)  #ellipsoid matrix\n",
    "    a = np.zeros(D, dtype=np.double)  #center of ellipsoid\n",
    "    regret = 0.\n",
    "    for i in range(D):\n",
    "        A[i, i] = D\n",
    "    for i in range(T):\n",
    "        x = np.random.rand(D)\n",
    "        value = (x * theta).sum()\n",
    "        \n",
    "        b = A.dot(x) / np.sqrt((x * (A.dot(x))).sum())\n",
    "        \n",
    "        if (value < 0):\n",
    "            print(\"ALERT\")\n",
    "        \n",
    "        if (2 * x.dot(b) < 1 / T):\n",
    "            regret += value - x.dot(a - b)\n",
    "            continue\n",
    "        elif (value <= x.dot(a)):\n",
    "            a -= b\n",
    "            regret += value\n",
    "        elif (value > x.dot(a)):\n",
    "            a += b\n",
    "            regret += value - x.dot(a)\n",
    "        \n",
    "        A = D**2 / (D**2 - 1) * (A - 2 / (D + 1) * b * np.reshape(b, (-1, 1)))\n",
    "        \n",
    "        \n",
    "    return regret"
   ]
  },
  {
   "cell_type": "code",
   "execution_count": 56,
   "metadata": {},
   "outputs": [
    {
     "data": {
      "text/plain": [
       "[<matplotlib.lines.Line2D at 0x118cc6c90>]"
      ]
     },
     "execution_count": 56,
     "metadata": {},
     "output_type": "execute_result"
    },
    {
     "data": {
      "image/png": "[encoded data removed]",
      "text/plain": [
       "<Figure size 432x288 with 1 Axes>"
      ]
     },
     "metadata": {
      "needs_background": "light"
     },
     "output_type": "display_data"
    }
   ],
   "source": [
    "T, D = 1000, 10\n",
    "theta = np.random.rand(D)\n",
    "regret = np.zeros(T)\n",
    "\n",
    "for i in range(3, T):\n",
    "    regret[i] = getEllipsRegret(i, D, theta)\n",
    "    \n",
    "plt.plot(regret)"
   ]
  },
  {
   "cell_type": "code",
   "execution_count": null,
   "metadata": {},
   "outputs": [],
   "source": []
  }
 ],
 "metadata": {
  "kernelspec": {
   "display_name": "Python 3",
   "language": "python",
   "name": "python3"
  },
  "language_info": {
   "codemirror_mode": {
    "name": "ipython",
    "version": 3
   },
   "file_extension": ".py",
   "mimetype": "text/x-python",
   "name": "python",
   "nbconvert_exporter": "python",
   "pygments_lexer": "ipython3",
   "version": "3.7.4"
  }
 },
 "nbformat": 4,
 "nbformat_minor": 2
}
