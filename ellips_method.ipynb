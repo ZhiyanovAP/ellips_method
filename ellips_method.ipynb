{
 "cells": [
  {
   "cell_type": "code",
   "execution_count": 1,
   "metadata": {},
   "outputs": [],
   "source": [
    "import numpy as np\n",
    "import matplotlib.pyplot as plt"
   ]
  },
  {
   "cell_type": "code",
   "execution_count": 2,
   "metadata": {},
   "outputs": [],
   "source": [
    "def getEllipsRegret(T, D, theta):\n",
    "    A = np.zeros((D, D), dtype=np.double)  #ellipsoid matrix\n",
    "    a = np.zeros(D, dtype=np.double)  #center of ellipsoid\n",
    "    regret = 0.\n",
    "    for i in range(D):\n",
    "        A[i, i] = D\n",
    "    for i in range(T):\n",
    "        x = np.random.rand(D)\n",
    "        value = (x * theta).sum()\n",
    "        \n",
    "        b = A.dot(x) / np.sqrt((x * A.dot(x)).sum())\n",
    "        \n",
    "        if (value < 0):\n",
    "            print(\"Error\")\n",
    "        \n",
    "        if (2 * np.sqrt((x * A.dot(x)).sum()) < 1 / T):\n",
    "            regret += value - (x * (a - b)).sum()\n",
    "            continue\n",
    "        elif (value <= x.dot(a)):\n",
    "            a -= b / (D + 1)\n",
    "            regret += value\n",
    "            #print(T, \" rejection\")\n",
    "        elif (value > x.dot(a)):\n",
    "            a += b / (D + 1)\n",
    "            regret += value - x.dot(a)\n",
    "            #print(T, \" acception\")\n",
    "        \n",
    "        A = D**2 / (D**2 - 1) * (A - 2 / (D + 1) * b * np.reshape(b, (-1, 1)))\n",
    "        \n",
    "        \n",
    "    return regret"
   ]
  },
  {
   "cell_type": "code",
   "execution_count": 3,
   "metadata": {},
   "outputs": [
    {
     "name": "stdout",
     "output_type": "stream",
     "text": [
      "Progress:  100 Regret:  114.40560485776302\n",
      "Progress:  200 Regret:  239.55316993280857\n",
      "Progress:  300 Regret:  361.2666481106258\n",
      "Progress:  400 Regret:  469.4575680435645\n",
      "Progress:  500 Regret:  603.2675731965709\n",
      "Progress:  600 Regret:  726.4810457413165\n",
      "Progress:  700 Regret:  850.5048224108849\n",
      "Progress:  800 Regret:  980.448446131353\n",
      "Progress:  900 Regret:  1102.80898222004\n",
      "Progress:  1000 Regret:  1218.647474199293\n",
      "Progress:  1100 Regret:  1314.660387346741\n",
      "Progress:  1200 Regret:  1476.8730498196824\n",
      "Progress:  1300 Regret:  1595.8843874311406\n",
      "Progress:  1400 Regret:  1713.5377226708827\n",
      "Progress:  1500 Regret:  1861.5761651734706\n",
      "Progress:  1600 Regret:  1969.0888266287543\n",
      "Progress:  1700 Regret:  2079.1904829954033\n",
      "Progress:  1800 Regret:  2212.8158174532155\n"
     ]
    },
    {
     "name": "stderr",
     "output_type": "stream",
     "text": [
      "/usr/local/lib/python3.7/site-packages/ipykernel_launcher.py:11: RuntimeWarning: invalid value encountered in sqrt\n",
      "  # This is added back by InteractiveShellApp.init_path()\n",
      "/usr/local/lib/python3.7/site-packages/ipykernel_launcher.py:16: RuntimeWarning: invalid value encountered in sqrt\n",
      "  app.launch_new_instance()\n"
     ]
    },
    {
     "name": "stdout",
     "output_type": "stream",
     "text": [
      "Progress:  1900 Regret:  nan\n",
      "Progress:  2000 Regret:  2291.0710558485034\n",
      "Progress:  2100 Regret:  nan\n",
      "Progress:  2200 Regret:  nan\n",
      "Progress:  2300 Regret:  2280.8438511616864\n",
      "Progress:  2400 Regret:  2258.832300124805\n",
      "Progress:  2500 Regret:  nan\n",
      "Progress:  2600 Regret:  nan\n",
      "Progress:  2700 Regret:  2258.7291941103545\n",
      "Progress:  2800 Regret:  2253.3955808819574\n",
      "Progress:  2900 Regret:  nan\n",
      "Progress:  3000 Regret:  2303.9260031322415\n",
      "Progress:  3100 Regret:  2315.920484455108\n",
      "Progress:  3200 Regret:  2281.4223911863687\n",
      "Progress:  3300 Regret:  nan\n",
      "Progress:  3400 Regret:  2263.6766542180653\n",
      "Progress:  3500 Regret:  2283.351000273366\n",
      "Progress:  3600 Regret:  nan\n",
      "Progress:  3700 Regret:  2284.999938895604\n",
      "Progress:  3800 Regret:  nan\n",
      "Progress:  3900 Regret:  nan\n",
      "Progress:  4000 Regret:  2225.720818280965\n",
      "Progress:  4100 Regret:  nan\n",
      "Progress:  4200 Regret:  nan\n",
      "Progress:  4300 Regret:  2247.9256379318485\n",
      "Progress:  4400 Regret:  nan\n",
      "Progress:  4500 Regret:  2287.3349350648978\n",
      "Progress:  4600 Regret:  nan\n",
      "Progress:  4700 Regret:  2230.8746170995473\n",
      "Progress:  4800 Regret:  nan\n",
      "Progress:  4900 Regret:  2256.7326823653984\n",
      "Progress:  5000 Regret:  2271.3569959532356\n",
      "Progress:  5100 Regret:  nan\n",
      "Progress:  5200 Regret:  2265.7574294038027\n",
      "Progress:  5300 Regret:  2262.1511025916666\n",
      "Progress:  5400 Regret:  2291.2471931903715\n",
      "Progress:  5500 Regret:  nan\n",
      "Progress:  5600 Regret:  2290.935278374625\n",
      "Progress:  5700 Regret:  2289.6470465769353\n",
      "Progress:  5800 Regret:  nan\n",
      "Progress:  5900 Regret:  2265.038945086759\n",
      "Progress:  6000 Regret:  nan\n",
      "Progress:  6100 Regret:  nan\n",
      "Progress:  6200 Regret:  2288.934660468202\n",
      "Progress:  6300 Regret:  nan\n",
      "Progress:  6400 Regret:  nan\n",
      "Progress:  6500 Regret:  2280.0788536201662\n",
      "Progress:  6600 Regret:  nan\n",
      "Progress:  6700 Regret:  nan\n",
      "Progress:  6800 Regret:  2273.8618873700757\n",
      "Progress:  6900 Regret:  2271.300635082277\n",
      "Progress:  7000 Regret:  nan\n",
      "Progress:  7100 Regret:  nan\n",
      "Progress:  7200 Regret:  nan\n",
      "Progress:  7300 Regret:  nan\n",
      "Progress:  7400 Regret:  2251.2693616614297\n",
      "Progress:  7500 Regret:  2268.148335226998\n",
      "Progress:  7600 Regret:  2259.144161324022\n",
      "Progress:  7700 Regret:  nan\n",
      "Progress:  7800 Regret:  nan\n",
      "Progress:  7900 Regret:  2267.3324909591975\n",
      "Progress:  8000 Regret:  2299.4980931963087\n",
      "Progress:  8100 Regret:  nan\n",
      "Progress:  8200 Regret:  nan\n",
      "Progress:  8300 Regret:  2247.6713326652794\n",
      "Progress:  8400 Regret:  nan\n",
      "Progress:  8500 Regret:  nan\n",
      "Progress:  8600 Regret:  nan\n",
      "Progress:  8700 Regret:  2296.54102870823\n",
      "Progress:  8800 Regret:  nan\n",
      "Progress:  8900 Regret:  nan\n",
      "Progress:  9000 Regret:  nan\n",
      "Progress:  9100 Regret:  2294.530222642672\n",
      "Progress:  9200 Regret:  2239.9009932782624\n",
      "Progress:  9300 Regret:  2289.363814227968\n",
      "Progress:  9400 Regret:  2256.779242238222\n",
      "Progress:  9500 Regret:  nan\n",
      "Progress:  9600 Regret:  nan\n",
      "Progress:  9700 Regret:  nan\n",
      "Progress:  9800 Regret:  nan\n",
      "Progress:  9900 Regret:  2258.4463509613834\n"
     ]
    },
    {
     "data": {
      "text/plain": [
       "[<matplotlib.lines.Line2D at 0x1163f4d90>]"
      ]
     },
     "execution_count": 3,
     "metadata": {},
     "output_type": "execute_result"
    },
    {
     "data": {
      "image/png": "[encoded data removed]",
      "text/plain": [
       "<Figure size 432x288 with 1 Axes>"
      ]
     },
     "metadata": {
      "needs_background": "light"
     },
     "output_type": "display_data"
    }
   ],
   "source": [
    "T, D = 10000, 10\n",
    "theta = np.random.rand(D)\n",
    "regret = np.zeros(T)\n",
    "\n",
    "for i in range(1, T):\n",
    "    regret[i] = getEllipsRegret(i, D, theta)\n",
    "    if (i % 100 == 0):\n",
    "        print(\"Progress: \", i, \"Regret: \", regret[i])\n",
    "    \n",
    "plt.plot(regret)"
   ]
  },
  {
   "cell_type": "code",
   "execution_count": 79,
   "metadata": {},
   "outputs": [],
   "source": [
    "np.savetxt(\"regret_T=10000.csv\", regret, delimiter=\",\")"
   ]
  },
  {
   "cell_type": "code",
   "execution_count": null,
   "metadata": {},
   "outputs": [],
   "source": []
  }
 ],
 "metadata": {
  "kernelspec": {
   "display_name": "Python 3",
   "language": "python",
   "name": "python3"
  },
  "language_info": {
   "codemirror_mode": {
    "name": "ipython",
    "version": 3
   },
   "file_extension": ".py",
   "mimetype": "text/x-python",
   "name": "python",
   "nbconvert_exporter": "python",
   "pygments_lexer": "ipython3",
   "version": "3.7.4"
  }
 },
 "nbformat": 4,
 "nbformat_minor": 2
}
